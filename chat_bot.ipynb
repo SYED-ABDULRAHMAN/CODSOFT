{
  "nbformat": 4,
  "nbformat_minor": 0,
  "metadata": {
    "colab": {
      "provenance": [],
      "authorship_tag": "ABX9TyOw7VCSxADSNsV2GBHif7vN",
      "include_colab_link": true
    },
    "kernelspec": {
      "name": "python3",
      "display_name": "Python 3"
    },
    "language_info": {
      "name": "python"
    }
  },
  "cells": [
    {
      "cell_type": "markdown",
      "metadata": {
        "id": "view-in-github",
        "colab_type": "text"
      },
      "source": [
        "<a href=\"https://colab.research.google.com/github/SYED-ABDULRAHMAN/Project/blob/main/chat_bot.ipynb\" target=\"_parent\"><img src=\"https://colab.research.google.com/assets/colab-badge.svg\" alt=\"Open In Colab\"/></a>"
      ]
    },
    {
      "cell_type": "code",
      "execution_count": null,
      "metadata": {
        "colab": {
          "base_uri": "https://localhost:8080/"
        },
        "id": "TAIbhfGyG1br",
        "outputId": "bbe407c0-9bcf-4e18-bf05-b67fc1f266a6"
      },
      "outputs": [
        {
          "output_type": "stream",
          "name": "stdout",
          "text": [
            "Welcome to the chatbot! Type 'quit' to end the conversation.\n",
            "\n",
            "You: hi\n",
            "Hello! It's nice to meet you.\n",
            "\n",
            "You: how are you\n",
            "I'm just a computer program, but I'm functioning well. Thanks for asking!\n",
            "\n",
            "You: what is your name\n",
            "I'm sorry, I didn't understand that. Could you please rephrase your question?\n",
            "\n",
            "You: what's your name\n",
            "I'm Chatty, your friendly chatbot!\n",
            "\n",
            "You: what can you do\n",
            "I can answer your questions, tell you a joke, or just chat with you!\n",
            "\n",
            "You: tell me a joke\n",
            "Why don't scientists trust atoms? Because they make up everything!\n",
            "\n",
            "You: thanks \n",
            "You're welcome!\n",
            "\n",
            "You: quit\n",
            "Goodbye!\n"
          ]
        }
      ],
      "source": [
        "print(\"Welcome to the chatbot! Type 'quit' to end the conversation.\")\n",
        "\n",
        "while True:\n",
        "    user_input = input(\"\\nYou: \")\n",
        "\n",
        "    if user_input.lower() == \"quit\":\n",
        "        print(\"Goodbye!\")\n",
        "        break\n",
        "    elif \"hello\" in user_input.lower():\n",
        "        print(\"Hi there! How can I help you today?\")\n",
        "    elif \"hi\" in user_input.lower():\n",
        "        print(\"Hello! It's nice to meet you.\")\n",
        "    elif \"how are you\" in user_input.lower():\n",
        "        print(\"I'm just a computer program, but I'm functioning well. Thanks for asking!\")\n",
        "    elif \"what's your name\" in user_input.lower():\n",
        "        print(\"I'm Chatty, your friendly chatbot!\")\n",
        "    elif \"what can you do\" in user_input.lower():\n",
        "        print(\"I can answer your questions, tell you a joke, or just chat with you!\")\n",
        "    elif \"tell me a joke\" in user_input.lower():\n",
        "        print(\"Why don't scientists trust atoms? Because they make up everything!\")\n",
        "    elif \"thanks\" in user_input.lower() or \"thank you\" in user_input.lower():\n",
        "        print(\"You're welcome!\")\n",
        "    else:\n",
        "        print(\"I'm sorry, I didn't understand that. Could you please rephrase your question?\")"
      ]
    }
  ]
}